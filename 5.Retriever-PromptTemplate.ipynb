{
 "cells": [
  {
   "cell_type": "markdown",
   "metadata": {},
   "source": [
    "### Retriever & Prompt Template 연결"
   ]
  },
  {
   "cell_type": "code",
   "execution_count": null,
   "metadata": {},
   "outputs": [],
   "source": [
    "\"\"\"\n",
    "\n",
    "< Prompt Template >\n",
    "LLM에게 사전에 역할/명령을 부여하는 도구\n",
    "\n",
    "< Retriever >\n",
    "백터 저장소에서 문서를 검색하는 도구\n",
    "\n",
    "\"\"\""
   ]
  },
  {
   "cell_type": "code",
   "execution_count": 1,
   "metadata": {},
   "outputs": [],
   "source": [
    "## Stage 1.\n",
    "## LLM + PromptTemplate 사용 예시:\n",
    "\n",
    "# Libraries\n",
    "from langchain.prompts import PromptTemplate\n",
    "from langchain_core.output_parsers import StrOutputParser\n",
    "from langchain_community.chat_models import ChatOllama\n",
    "from langchain_core.runnables import RunnablePassthrough\n",
    "\n",
    "# LLM Load\n",
    "local_model = \"wizardlm2\"\n",
    "llm = ChatOllama(model=local_model)\n",
    "\n",
    "# Template 구축\n",
    "template = \"\"\"You are an AI assistant.\n",
    "              Answer the question based on your knowledge.\n",
    "              If you do not know the answer, just say you don't know.\n",
    "              Do not share false information.\n",
    "              Question: {question}\n",
    "              \"\"\"\n",
    "\n",
    "# PromptTemplate + LLM = Chain\n",
    "llm_template = PromptTemplate.from_template(template)\n",
    "chain = (\n",
    "    {\"question\" : RunnablePassthrough()}\n",
    "    | llm_template\n",
    "    | llm\n",
    "    | StrOutputParser()\n",
    ")"
   ]
  },
  {
   "cell_type": "code",
   "execution_count": 2,
   "metadata": {},
   "outputs": [
    {
     "name": "stdout",
     "output_type": "stream",
     "text": [
      "현재 미국의 대통령은 Joe Biden입니다. 그는 2021년 1월 20일에 입임하여 46번째 미국 대통령으로, 2020년 선거를 통해 승당받았습니다. Joe Biden은 바라크 오바마의 후계자로서 연임을 시도했으며, 이전에 미국 參회장(Vice President)으로 역할했던 경력이 있습니다.\n"
     ]
    }
   ],
   "source": [
    "# 질문\n",
    "ans = chain.invoke(\"현재 미국 대통령은 누구야?\")\n",
    "print(ans)"
   ]
  },
  {
   "cell_type": "code",
   "execution_count": null,
   "metadata": {},
   "outputs": [],
   "source": []
  },
  {
   "cell_type": "code",
   "execution_count": null,
   "metadata": {},
   "outputs": [],
   "source": []
  },
  {
   "cell_type": "code",
   "execution_count": 24,
   "metadata": {},
   "outputs": [
    {
     "name": "stdout",
     "output_type": "stream",
     "text": [
      "20\n"
     ]
    },
    {
     "data": {
      "text/plain": [
       "[Document(page_content='은행  (NEUTRAL ) \\n케이뱅크  – 2Q 분기 흑자 전환 성공  \\n \\n• 케이뱅크는  2Q21 28.1% q-q의 견조한  자산 성장률을  기록한  가운데 , 39억원의  흑자\\n전환에  성공. 작년 분기별  평균 263억원의  적자 시현 감안할 때, 이익 개선이  빠르\\n게 이뤄진  것을 방증. \\n• 1) 대출 고성장으로  이자이익이  396.4 % y-y, 71.3% q-q 증가와 함께 2) 수수료이익\\n이 85억원의  순이익을  기록한  것이 실적 개선을  견읶. \\n• 지난 7월 완료된  1.25조원의 유상증자는  케이뱅크  실적의  본격적읶  개선을  위한 기\\n반이 될 전망. 향후 성장의  지속성을  위한 관건은  고객 기반 활용도  제고로 판단.  \\nWHAT’S THE STORY  \\n케이뱅크  2Q21 실적 - 적자폭  크게 감소: 케이뱅크는  2Q21 28.1% q -q의 견조한  자산 성장\\n률을 기록한  가욲데 , 39억원의  흑자젂홖에  성공. 참고로 , 동사가  작년 연갂 1,054 억원, 붂기\\n별로는  평균 263억원의  적자를  시현한  점을 감앆할 때, 2Q 실적은  동사 이익 개선이  빠르\\n게 이뤄짂  것을 방증. 이자이익이  증가와  수수료이익  증가가  실적 개선을  견읶. \\n1. 이자이익  증가 – 대출 고성장  영향: 케이뱅크의  이자이익은  71.3% q -q 증가한  448억원\\n을 기록. 2Q 이자이익  증가 폭은 186억원으로  지난 붂기 개선 폭 (97억원)에 비해 개선 속\\n도가 빨라지고  있으며, 이자이익의  증가가  붂기 실적 흑자 젂홖에  주요 요읶으로  작용한  것\\n으로 판단. \\n2. 수수료  큰 폭 흑자 시현 – 업비트  관련 수수료  이익 증가에  기읶: 2Q 중 수수료이익  부\\n문 흑자 시현. 젂붂기  1억원 순손실을  기록했으나 , 2Q에는 85억원의  순이익을  기록. 가입자  \\n수 증가에  따른 비용 지출 증가에도  불구하고 , 업비트  관렦 수수료  수익이  급증하였고 , 이 \\n외에도  연계 대출 출시 등에 따른 효과에  따른 것으로  판단. \\n3. 판관비  젂분기와  유사, 젂년동기  대비 16.4% 증가 – 판관비용률  개선에  초점 필요: 판관\\n비는 283억원으로  16.4% y-y 증가. 이는 읷부 읶력 충원과  더불어  자산성장에  따른 제반 \\n비용의  증가에  따른 것으로  판단. 다만, 총자산  대비 판관비용률은  0.9% 로 1Q 1.2%  대비 \\n큰 폭으로  개선된 것에 초점 필요. \\n4. 대손비용률  개선세 지속 – 자산성장에  따라 추가적읶  개선을  기대: 동사 충당금  적립비\\n용은 140억원으로  젂붂기  대비 80.4% 증가. 이는 자산건젂성의  악화에  따른 것이기보다는  \\n대출 순증에  따른 영향으로  판단.  \\n실적 개선 속도 가속화  기대 요읶 점검: 지난 7월 14읷, 1.25 조원의  유상증자가  완료. 금번 \\n대규모  유상증자는  동사 실적의  본격적읶  개선을  위한 기반이  될 젂망. 유상증자에  따른 영\\n향으로는  크게 1) 자산성장의  가속화와  2) 수익성  개선으로  판단.  \\n흑자젂홖  달성 시점의  단축 기대 – 관건은  고객 기반 홗용도  제고: 케이뱅크의  올해 연갂 \\n당기순이익은  34억원로  추정, 이미 2Q 중 흑자젂홖에  성공한  가욲데 , 하반기  증자 효과 등\\n을 감앆할  때, 올해 연갂 BEP 달성에  성공할  수 있을 것으로  기대하는  것. 이익 개선은  1) \\n대규모  유상증자  이후 견조한  대출 성장 기반으로 , 2) NIM 의 회복에  따른 이자이익의  증가\\n와 3) 앆정적읶  대손비용률  개선에  기읶.', metadata={'source': './data/케이뱅크.pdf', 'page': 0}),\n",
       " Document(page_content='SECTOR  UPDATE  2021. 9. 2  \\n은행 \\n \\nSamsung Securities (Korea)  \\nwww.samsungpop.com  2 \\n 2Q 실적 Overview – 분기 흑자 시현  \\n케이뱅크가  2Q21 실적을  발표하였다 . 28.1% q -q의 견조한  자산 성장률을  기록한  가욲데 , 39억원의  흑\\n자젂홖에  성공하였다 . 참고로 , 동사가  작년 연갂 1,054 억원, 붂기별로는  평균 263억원의  적자를  시현한  \\n점을 감앆하면 , 이익 개선이  빠르게  이뤄짂  것이다 . 이는 이자이익이  396.4% y -y, 71.3% q -q 증가한  데 \\n따른 것으로  판단된다 .  \\n \\n케이뱅크 : 손익계산서  \\n(십억원 ) 2Q20  3Q20  4Q20  1Q21 2Q21 \\n순이자손익  9.0  11.2  16.5  26.1  44.8  \\n이자수익  14.6  16.5  22.6  33.7  54.4  \\n이자비용  (5.6) (5.2) (6.1) (7.6) (9.7) \\n순수수료손익  (2.3) (3.1) (1.9) (0.1) 8.5  \\n수수료수익  1.0  1.6  2.3  5.0  16.0  \\n수수료비용  (3.3) (4.8) (4.3) (5.1) (7.5) \\n싞용손실에대한  손상차손  (3.4) (5.4) (12.8)  (7.8) (14.0)  \\n읷반관리비  (24.3)  (27.7)  (35.6)  (28.4)  (28.3)  \\n기타영업이익 (손실) (0.0) (0.4) (1.2) (2.1) (7.1) \\n영업이익  (21.0)  (25.4)  (35.1)  (12.2)  3.9  \\n영업외손익  0.0  0.0  0.0  (0.1) 0.0  \\n법읶세비용차감젂순손실  (20.9)  (25.4)  (35.1)  (12.3)  3.9  \\n법읶세비용  0.0  0.0  0.0  0.0  0.0  \\n당기순이익  (20.9)  (25.4)  (35.1)  (12.3)  3.9  \\n자료: 케이뱅크   케이뱅크 : 재무상태표  \\n(십억원 ) 2Q20  3Q20  4Q20  1Q21 2Q21 4Q18  1Q19 2Q19  3Q19  \\n현금및예치금  58.9  103.4  156.7  318.3  500.7  1,640.5  4,156.4  3,673.7  946.2  \\n매도가능금융자산  312.3  512.1  622.8  1,910.8  3,569.3  434.0  2,126.5  3,717.1  3,763.3  \\n대출채권  1,583.9  2,554.9  3,418.6  6,732.9  7,695.1  9,082.1  9,662.4  11,316.8  16,365.6  \\n유형자산  11.4  9.8  34.5  33.2  33.7  32.0  43.7  45.4  47.4  \\n무형자산  49.4  43.9  39.7  33.9  30.9  64.2  60.3  60.5  57.3  \\n당기법읶세자산  0.7  0.9  1.1  1.4  1.3  2.2  2.3 1.6 2.9 \\n기타금융자산  0.0  0.0  55.7  381.8  223.1  0.0  0.0  0.0  0.0  \\n기타자산  43.8  55.0  1.9  1.1  0.1  0.0  0.0  0.0  0.0  \\n자산 총계 2,060.5  3,279.9  4,331.1  9,413.4  12,054.3  12,126.7  16,323.1  19,072.2  21,387.5  \\n예수부채  1,845.4  2,687.2  3,745.3  8,717.8  11,285.4  10,811.6  14,897.1  17,573.5  19,881.9  \\n순확정급여부채  1.5  2.1  0.0  0.0  0.0  0.6  1.4  2.3  3.1  \\n충당부채  0.1  0.3  1.9  1.3  2.0      \\n기타금융부채  48.7  63.3  91.3  215.0  304.0  8.1  8.9  10.1  11.4  \\n기타부채  5.2  3.0  3.8  3.6  2.8  166.0  266.0  327.5  352.9  \\n부채 총계 1,900.9  2,755.9  3,842.3  8,937.7  11,594.2  10,986.3  15,173.5  17,913.4  20,222.3  \\n자본금  505.1  901.7  901.7  901.7  901.7  1,300.0  1,300.0  1,300.0  1,300.0  \\n자본조정  (7.9) (13.6)  (13.6)  (13.6)  (13.6)  (18.7)  (18.7)  (17.9)  (17.0)  \\n기타포괄손익누계액  (0.6) (1.6) (1.8) (2.6) (22.1)  0.3  2.9  8.3  8.0  \\n이익잉여금  (337.0)  (362.4)  (397.4)  (409.7)  (405.8)  (141.2)  (134.6)  (131.6)  (125.8)  \\n자본 총계 159.6  524.0  488.8  475.7  460.1  1,140.4  1,149.6  1,158.8  1,165.2  \\n자료: 케이뱅크', metadata={'source': './data/케이뱅크.pdf', 'page': 1}),\n",
       " Document(page_content='SECTOR  UPDATE  2021. 9. 2  \\n은행 \\n \\nSamsung Securities (Korea)  \\nwww.samsungpop.com  3 \\n 이자이익  증가 – 대출 고성장  영향 \\n케이뱅크의  이자이익은  71.3% q-q 증가한  448억원을  기록하였다 . 2Q 이자이익  증가 폭이 186억원으로  \\n지난 붂기 개선 폭 (97억원)에 비해 개선 속도가  더 빨라지고  있는 모습이며 , 이자이익의  증가가  동사\\n의 붂기 실적 흑자 젂홖에  주요 요읶으로  작용한  것으로  판단된다 .  \\n이자익의  개선 요읶은  자산 성장에  따른 것으로  판단된다 . 1) NIM 은 1.34% 로 젂붂기  대비 30bp 하락\\n하였으나 , 2) 32.8% q -q의 가파른  대출 성장 (가계대출  기준)이 NIM 하락 영향을  상쇄시킨  것 이상으\\n로 이자이익  증가 속도 개선 폭을 확대시킨  것으로  판단된다 .  \\n \\n케이뱅크 : 이자이익   케이뱅크 : 가계대출 , 대출 성장률   케이뱅크 : NIM  \\n   \\n자료: 케이뱅크  자료: 케이뱅크  참고: 붂기 추정 기준 / 누적 기준 NIM은 15bp 하락 \\n자료: 케이뱅크  \\n  \\n14.9 \\n-10.8 -9.8 2.6 \\n-7.0 24.6 46.7 58.6 71.3 \\n-20020406080\\n01020304050\\n2Q19\\n3Q19\\n4Q19\\n1Q20\\n2Q20\\n3Q20\\n4Q20\\n1Q21\\n2Q21\\n이자이익 (좌측)\\n증감률 (우측)(십억원 )가파른대출성장으로\\n이자이익 증가(% q -q)\\n6.5 \\n-6.4 -4.6 -5.6 -5.8 67.3 \\n41.9 \\n28.2 32.8 \\n-20020406080\\n0123456\\n2Q19\\n3Q19\\n4Q19\\n1Q20\\n2Q20\\n3Q20\\n4Q20\\n1Q21\\n2Q21\\n가계대출 (좌측)\\n성장률 (우측)(조원) (% q -q)\\n1.57 \\n1.35 1.31 1.63 1.83 \\n1.40 1.70 \\n1.49 \\n1.19 \\n1.01.21.41.61.82.0\\n2Q19\\n3Q19\\n4Q19\\n1Q20\\n2Q20\\n3Q20\\n4Q20\\n1Q21\\n2Q21(%) 젂분기대비 30bp 하락', metadata={'source': './data/케이뱅크.pdf', 'page': 2}),\n",
       " Document(page_content='SECTOR  UPDATE  2021. 9. 2  \\n은행 \\n \\nSamsung Securities (Korea)  \\nwww.samsungpop.com  4 \\n 1. 대출 성장률  젂분기  대비 32.8% - 가계 싞용대출  중심 성장 \\n케이뱅크 의 대차대조표  상의 대출채권은  14.3% q -q 증가한  7.7조원을  기록하였다 . 다만, 카카오뱅크와  \\n같이, 동사 대출채권  계정 내에는  유가증권  성격의  RP가 포함되어  있는 것을 감앆할  필요가  있다. 읷례\\n로, 자산건젂성  붂류 기준 총여싞은  5.1조원으로  재무제표  상 대출채권과  7.7조원 가량의  차이가  있는\\n데, 이는 2.6조원의  RP로 대부붂  설명 가능하다 . 즉, 동사는  자본비율  관리 등의 이유로  유입된  수싞 중 \\n읷부를  RP매입에  홗용한  것으로  판단된다 .  \\n케이뱅크의  가계대출은  32.8% q -q, 304.0% y -y 증가한  5.1조원을  기록하였다 . 1) 2Q 중 읷평균  증시 거\\n래대금이  27.0조원으로  여젂히  증시 투자 자금 수요가  높게 유지되었고 , 2) 젂월세  자금 등 개읶들의  \\n주택 관렦 자금 수요도  늘어나며  은행권  젂반의  가계대출  증가와  궤를 같이 하는 것으로  판단된다 .  \\n동사 가계대출  성장은  대부붂  싞용대출을  중심으로  이뤄짂  것으로  판단된 다. 동사 가계대출  중 주거용\\n주택담보  익스포저 는 2Q 말 기준 5,896억원에 불과하다 . 반면, 기타 개읶 소매 대출 4.5조원의  위험가\\n중치는  74.6% 읶 점을 감앆할  때, 대부붂이  싞용대출읶  것으로  판단된다 .  \\n \\n케이뱅크  자산굮별  익스포저  및 싞용리스크경감  효과 \\n(십억원 ) \\n \\n 싞용리스크경감 (CRM)  및 싞용홖산율  (CCF)  \\n적용 젂 익스포저   싞용리스크경감 (CRM)  및 싞용홖산율  (CCF) \\n적용 후 익스포저   위험가중자산  및  \\n평균위험  가중치  (%) \\n난내 난외  난내 난외  위험가중자산  평균위험가중치  \\n정부 익스포저   4,080.7   -    4,080.7   -    -   -  \\n은행 익스포저   0.2   -    0.2   -    -  20.00%  \\n주거용주택담보  익스포저   589.6     589.6     236.6  40.12%  \\n소매 익스포저   4,482.3   2,181.5    4,478.6   599.5    3,785.7  74.55%  \\n주식 익스포저   0.4   -    0.4   -    0.6  150.00%  \\n홖매조건부거래  및 싞용융자거래   2,652.8   -    -   -    -   -  \\n기타  243.2   -    147.8   -    61.1  41.31%  \\n총계  12,049.2   2,181.5    9,297.4   599.5    4,084.0  41.27%  \\n자료: 케이뱅크  \\n \\n표준방법  적용 자산굮  및 위험가중치별  익스포저  \\n(십억원 ) \\n 위험가중치  싞용익스포저  총액 \\n20% 35% 50% 75% 100%  (CCF 및 CRM 영향 차감 후) \\n주거용주택담보  익스포저   388.5  201.2    589.6  \\n소매 익스포저  (개읶) 43.9   5,028.8  5.4 5,078.1  \\n자료: 케이뱅크', metadata={'source': './data/케이뱅크.pdf', 'page': 3}),\n",
       " Document(page_content='SECTOR  UPDATE  2021. 9. 2  \\n은행 \\n \\nSamsung Securities (Korea)  \\nwww.samsungpop.com  5 \\n 2. 예금 성장률  29.5% - 업비트  제휴에  따른 저원가성 수싞 유입 지속에 초점 필요 \\n2Q 동사의  예금은  29.5% q -q, 511.6% y -y 늘어난  11.3조원을  기록하였다 . 동사의  수싞 잒액이  젂년 동\\n기에 비해 급증한  핵심 원읶은  작년 6월 암호화폐  거래소읶  업비트와의  제휴에  기읶한다 . 올해 들어 암\\n호화폐  거래량이  폭발적으로  증가함에  따라 업비트로의  자금 유입이  크게 늘었는데 , 이는 케이뱅크의  \\n수싞 증가로  이어짂  것이다 .  \\n특히, 업비트  관렦 수싞의  유입은  케이뱅크의  저원가성  수싞 비중의  급격한  상승으로  이어졌을  것으로  \\n추정된다 . 이는 업비트  관렦 자금이  0.1% 의 예금금리를  제공하는  수시입출식  자금이기  때문이다 . 동사\\n는 이와 관렦된  구체적  수치를  제공하지  않지만 , 동사가  공시한  비만기성  예금은  2Q 말 기준 9.4조원\\n으로 젂붂기  대비 34.3%, 2.4 조원 증가하였으며 , 이 중 상당 부붂은  업비트  관렦된  수싞으로  추정된다 . \\n특히, 이로 읶해 동사의  평균 조달금리는  젂붂기  0.66% 에서 2Q 0.51% 로 한 단계 더 개선되었다 . 참고\\n로, 비만기성  예금 9.4조원은  동사 젂체 수싞 중 83.1% 에 해당된다 .  \\n더 나아가 , 2Q 암호화폐  가격의  가파른  조정에도  불구하고  동사의  수싞 금액이  1Q 대비 오히려  증가한  \\n점에 초점이  필요하다 . 읷각에서는  암호화폐  시장의  가격 변동성이  동사의  수싞 앆정성을  저해할  수 있\\n다는 우려가  제기되었으나 , 2Q의 실적은  이러한  우려를  불식시키기  충붂한  것으로  판단된다 . 참고로 , \\n케이뱅크  입장에서  업비트  관렦 수싞이  유출되기  위해서는  소비자가  암호화폐를  매각한  자금을  케이뱅\\n크로 읶출 후, 이를 재차 다른 은행으로  이체 혹은 현금으로  읶출하는  과정을  거쳐야  한다.  \\n \\n케이뱅크 : 고객 수 및 예금 추이  업비트  - 케이뱅크 : 계좌 제휴에  따른 고객 유입 구조도  \\n \\n \\n자료: 케이뱅크  자료: 각 사, 삼성증권  \\n  \\n업비트의\\n펌뱅킹계좌\\n펌뱅킹담당하는\\nK뱅크계좌예금을업비트에예치할경우\\n암호화폐를 매매할경우\\n투자자 A 투자자 B\\n암호화폐\\n암호화폐 구매대금계좌이젂으로수싞유출없음\\n A 계좌 B 계좌\\n1.1 1.9 2.3 1.7 1.8 2.7 3.7 8.7 11.3 \\n024681012\\n01,3002,6003,9005,2006,500\\n4Q17\\n4Q18\\n4Q19\\n1Q20\\n2Q20\\n3Q20\\n4Q20\\n1Q21\\n2Q21\\n예금 (우측) 고객 수(좌측)(천명) (조원)\\n업비트제휴에따른\\n고객유입가속화', metadata={'source': './data/케이뱅크.pdf', 'page': 4})]"
      ]
     },
     "execution_count": 24,
     "metadata": {},
     "output_type": "execute_result"
    }
   ],
   "source": [
    "## Stage 2.\n",
    "## LLM + PromptTemplate + Retriever (Multi_Query) 사용 예시: \n",
    "\n",
    "# Libraries\n",
    "from langchain.document_loaders import PyPDFLoader\n",
    "\n",
    "# pdf read\n",
    "local_path = \"./data/케이뱅크.pdf\"\n",
    "loader = PyPDFLoader(local_path)\n",
    "data = loader.load_and_split()\n",
    "print(len(data))\n",
    "data[:5]"
   ]
  },
  {
   "cell_type": "code",
   "execution_count": 25,
   "metadata": {},
   "outputs": [],
   "source": [
    "# LLM load\n",
    "from langchain.chat_models import ChatOllama\n",
    "llm = ChatOllama(model=\"wizardlm2\")"
   ]
  },
  {
   "cell_type": "code",
   "execution_count": 28,
   "metadata": {},
   "outputs": [],
   "source": [
    "# Libraries\n",
    "from langchain.retrievers.multi_query import MultiQueryRetriever\n",
    "from langchain.text_splitter import RecursiveCharacterTextSplitter\n",
    "from langchain_community.vectorstores import Chroma\n",
    "from langchain.embeddings import HuggingFaceEmbeddings\n",
    "\n",
    "\n",
    "# 한국어 - 임베딩 모델 사용\n",
    "model_name = \"jhgan/ko-sbert-nli\"\n",
    "encode_kwargs = {\"normalize_embeddings\":True}\n",
    "ko_embedding = HuggingFaceEmbeddings(\n",
    "    model_name = model_name,\n",
    "    encode_kwargs = encode_kwargs\n",
    ")\n",
    "\n",
    "# Create Child Documents - text splitter - 자식 문서 \n",
    "text_splitter = RecursiveCharacterTextSplitter(chunk_size=500, chunk_overlap=50)\n",
    "splits = text_splitter.split_documents(data)\n",
    "\n",
    "\n",
    "# VectorStore 구축\n",
    "vectorstore = Chroma.from_documents(\n",
    "            documents=splits,\n",
    "            embedding=ko_embedding\n",
    "            )\n",
    "\n",
    "\n",
    "# MultiQuery-Retriever에 사용되는 QUERY_PROMPT 구축\n",
    "QUERY_PROMPT = PromptTemplate(\n",
    "    input_variables=[\"question\"],\n",
    "    template=\"\"\"You are an AI language model assistant. Your task is to generate five\n",
    "    different versions of the given user question to retrieve relevant documents from\n",
    "    a vector database. By generating multiple perspectives on the user question, your\n",
    "    goal is to help the user overcome some of the limitations of the distance-based\n",
    "    similarity search. Provide these alternative questions separated by newlines.\n",
    "    Original question: {question}\n",
    "    \"\"\",\n",
    ")\n",
    "\n",
    "# Document Retriever : \n",
    "# 탐색기 [llm & prompt 기능이 추가된 Retriever 구축]\n",
    "retriever = MultiQueryRetriever.from_llm(\n",
    "    retriever=vectorstore.as_retriever(),\n",
    "    llm = llm,\n",
    "    prompt=QUERY_PROMPT\n",
    ")"
   ]
  },
  {
   "cell_type": "code",
   "execution_count": 29,
   "metadata": {},
   "outputs": [],
   "source": [
    "## RAG Prompt Setting - Final prompt template for LLM\n",
    "final_template = \"\"\"Answer the question based ONLY on the following context:\n",
    "{context}\n",
    "Question: {question}\n",
    "\"\"\"\n",
    "\n",
    "# Chain 연결\n",
    "prompt = PromptTemplate.from_template(final_template)\n",
    "chain = (\n",
    "    {\"context\": retriever, \"question\": RunnablePassthrough()}\n",
    "    | prompt\n",
    "    | llm\n",
    "    | StrOutputParser()\n",
    ")"
   ]
  },
  {
   "cell_type": "code",
   "execution_count": 30,
   "metadata": {},
   "outputs": [
    {
     "data": {
      "text/plain": [
       "'케이뱅크의 보고서에서 추출한 주요 정보를 바탕으로, 다음과 같은 5가지 bullet point로 요약할 수 있습니다:\\n\\n1. 케이뱅크는 2021년 기준으로 총자산 12,049.2십억원을 보유하고 있으며, 주거용주택담보와 소매 익스포저(개익)에서 가장 큰 수익을 창출했습니다.\\n2. 표준방법에 따른 적용 자산의 위험가중치별 익스포저 성과를 분석한 결과, 100% 차감 후의 소매 익스포저(개익)가 가장 높은 수익을 보였습니다.\\n3. 판관비 추이 분석에서 케이뱅크는 2019년부터 2021년까지의 판관비 증가 트렌드를 파악하고, 시장 상황에 따라 판관비용률이 개선될 것으로 예상합니다.\\n4. 케이뱅크는 2021년 기준 P/B(배)가 0.6, P/E(배)가 6.1, PER(배)가 5.1, PBR(배)가 0.4로 설정한 목표 지표를 바탕으로 시장 분석을 수행했습니다.\\n5. 미래의 시장 성장과 판관비용률 개선에 대한 예측을 포함하여, 20A년부터 2022년까지의 PER(배)와 PBR(배) 예상치를 제시했습니다.\\n\\n이러한 요약은 보고서의 주요 내용을 기반으로 하며, 각 항목에 대한 더 자세한 정보는 원본 문서를 참조해야 합니다.'"
      ]
     },
     "execution_count": 30,
     "metadata": {},
     "output_type": "execute_result"
    }
   ],
   "source": [
    "# 질문 문의\n",
    "answer_from_llm = chain.invoke(\"5가지 bullet points로 요약해줘\")\n",
    "answer_from_llm"
   ]
  },
  {
   "cell_type": "code",
   "execution_count": null,
   "metadata": {},
   "outputs": [],
   "source": []
  }
 ],
 "metadata": {
  "kernelspec": {
   "display_name": "ollama_prj",
   "language": "python",
   "name": "python3"
  },
  "language_info": {
   "codemirror_mode": {
    "name": "ipython",
    "version": 3
   },
   "file_extension": ".py",
   "mimetype": "text/x-python",
   "name": "python",
   "nbconvert_exporter": "python",
   "pygments_lexer": "ipython3",
   "version": "3.10.0"
  }
 },
 "nbformat": 4,
 "nbformat_minor": 2
}
