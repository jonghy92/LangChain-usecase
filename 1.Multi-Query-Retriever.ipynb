{
 "cells": [
  {
   "cell_type": "markdown",
   "metadata": {},
   "source": [
    "### Multi-Query Retriever Test"
   ]
  },
  {
   "cell_type": "code",
   "execution_count": 1,
   "metadata": {},
   "outputs": [
    {
     "data": {
      "text/plain": [
       "'\\n< Multi-Query Retriever >\\n\\n개떡같이 질문해도 찰떡같이 알아듣도록, 사용자 질문을 여러개의 유사 질문으로 재생성\\n\\nex)\\n사용자 질문 : B은행의 대출은 어때?\\n    재생성 질문 1 : B은행의 대출 금리는 어때?\\n    재생성 질문 2 : B은행의 대출 조건은 어떄?\\n    재생성 질문 3 : B은행의 대출 후기는 어때?\\n\\n\\n(사용자 질문 + 재생성 질문들) --> VectorStore --> LLM\\n'"
      ]
     },
     "execution_count": 1,
     "metadata": {},
     "output_type": "execute_result"
    }
   ],
   "source": [
    "\"\"\"\n",
    "< Multi-Query Retriever >\n",
    "\n",
    "개떡같이 질문해도 찰떡같이 알아듣도록, 사용자 질문을 여러개의 유사 질문으로 재생성\n",
    "\n",
    "ex)\n",
    "사용자 질문 : B은행의 대출은 어때?\n",
    "    재생성 질문 1 : B은행의 대출 금리는 어때?\n",
    "    재생성 질문 2 : B은행의 대출 조건은 어떄?\n",
    "    재생성 질문 3 : B은행의 대출 후기는 어때? \n",
    "\n",
    "\n",
    "(사용자 질문 + 재생성 질문들) --> VectorStore --> LLM\n",
    "\"\"\""
   ]
  },
  {
   "cell_type": "code",
   "execution_count": 2,
   "metadata": {},
   "outputs": [
    {
     "name": "stderr",
     "output_type": "stream",
     "text": [
      "C:\\Users\\jongh\\AppData\\Roaming\\Python\\Python310\\site-packages\\tqdm\\auto.py:21: TqdmWarning: IProgress not found. Please update jupyter and ipywidgets. See https://ipywidgets.readthedocs.io/en/stable/user_install.html\n",
      "  from .autonotebook import tqdm as notebook_tqdm\n"
     ]
    }
   ],
   "source": [
    "# Libraries\n",
    "from langchain.text_splitter import RecursiveCharacterTextSplitter\n",
    "from langchain_community.document_loaders import WebBaseLoader\n",
    "from langchain_community.vectorstores import Chroma\n",
    "from langchain.embeddings import HuggingFaceEmbeddings\n",
    "\n",
    "# Load Web Data\n",
    "loader = WebBaseLoader(\"https://n.news.naver.com/mnews/article/015/0004995857\")\n",
    "data = loader.load()\n",
    "\n",
    "# Split\n",
    "text_splitter = RecursiveCharacterTextSplitter(chunk_size=300, chunk_overlap=0)\n",
    "splits = text_splitter.split_documents(data)\n",
    "\n",
    "\n",
    "# Embedding --> Vector DB\n",
    "model_name = \"jhgan/ko-sbert-nli\"\n",
    "encode_kwargs = {\"normalize_embeddings\":True}\n",
    "ko_embedding = HuggingFaceEmbeddings(\n",
    "    model_name = model_name,\n",
    "    encode_kwargs = encode_kwargs\n",
    ")\n",
    "vectordb = Chroma.from_documents(documents=splits, embedding=ko_embedding)"
   ]
  },
  {
   "cell_type": "code",
   "execution_count": 5,
   "metadata": {},
   "outputs": [],
   "source": [
    "# Libraries\n",
    "from langchain.retrievers.multi_query import MultiQueryRetriever\n",
    "from langchain.chat_models import ChatOllama\n",
    "\n",
    "# llm --> retriever\n",
    "llm = ChatOllama(model=\"wizardlm2\")\n",
    "retriever_from_llm = MultiQueryRetriever.from_llm(\n",
    "    retriever=vectordb.as_retriever(),\n",
    "    llm = llm\n",
    "    #prompt = QUERY_PROMPT | 넣어줄 수 있음\n",
    ")"
   ]
  },
  {
   "cell_type": "code",
   "execution_count": 6,
   "metadata": {},
   "outputs": [],
   "source": [
    "# Set logging for the queries\n",
    "import logging\n",
    "logging.basicConfig()\n",
    "logging.getLogger(\"langchain.retrievers.multi_query\").setLevel(logging.INFO)"
   ]
  },
  {
   "cell_type": "code",
   "execution_count": 9,
   "metadata": {},
   "outputs": [
    {
     "name": "stderr",
     "output_type": "stream",
     "text": [
      "INFO:langchain.retrievers.multi_query:Generated queries: ['1. What are the current strategic plans that KakaoTalk is implementing for growth and development in the near future?', \"2. Can you provide an overview of KakaoTalk's upcoming initiatives and features as outlined in their recent roadmap or announcement?\", \"3. I'm interested in learning about the direction KakaoTalk intends to take in its product and service offerings; could you detail any planned changes or updates they have disclosed?\"]\n"
     ]
    },
    {
     "data": {
      "text/plain": [
       "7"
      ]
     },
     "execution_count": 9,
     "metadata": {},
     "output_type": "execute_result"
    }
   ],
   "source": [
    "question = \"카카오톡의 이번 계획이 뭐야?\"\n",
    "unique_docs = retriever_from_llm.get_relevant_documents(query=question)\n",
    "len(unique_docs)\n",
    "\n",
    "## questions generated from Multi_query:\n",
    "# INFO:langchain.retrievers.multi_query:Generated queries: \n",
    "# ['Original Question: 카카오톡의 이번 업데이트나 개선 계획은 어떻게 진행되고 있나요?', '',\n",
    "#  'Alternative 1:', 'КакаоТалк의 최근에 발표된 기능 업데이트나 개발 로드맵에 대한 정보는 어디에서 확인할 수 있을까요?', '',\n",
    "#  'Alternative 2:', '카카오톡의 최근 사용자 경험 향상 계획이나 새로운 기능 개발에 대한 공식 발표나 안내가 있는 곳은 어디인가요?', '',\n",
    "#  'Alternative 3:', '카카오톡 앱의 최신 개발 도로맵이나 기능 업데이트 일정에 대한 자세한 정보를 제공하는 문서나 자료는 어떤 형태로 접근할 수 있을까요?']"
   ]
  },
  {
   "cell_type": "code",
   "execution_count": 8,
   "metadata": {},
   "outputs": [
    {
     "data": {
      "text/plain": [
       "[Document(page_content='가5단계\\n최대크게\\n\\n\\n\\n\\n\\n\\nSNS 보내기\\n\\n\\n\\n인쇄하기\\n\\n\\n\\n\\n\\n\\n\\n\\nAI 경쟁 언어모델에서 서비스로 넘어가는 단계기술 몰라도 쉽게 쓸 수 있는 카카오다운 서비스가 목표내정 이후 조직구조 개편에 초점...앞으로 프로세스와 문화까지 쇄신', metadata={'language': 'ko', 'source': 'https://n.news.naver.com/mnews/article/015/0004995857', 'title': \"정신아 카카오 대표 “하반기 AI 접목한 서비스 내놓을 것”'\"}),\n",
       " Document(page_content='이 기사를 본 이용자들이 함께 많이 본 기사, 해당 기사와 유사한 기사, 관심 기사 등을 자동 추천합니다\\n닫기\\n\\n\\n\\n\\n\\n\\n\\n\\n\\n\\n\\n\\n\\n\\n카카오 정신아 \"연내 차별화된 AI 서비스 내놓겠다\"\\n언어모델 싸움에서 의미있는 서비스로 넘어가는 게임돼\" \\'데이터센터 안산\\' 언론에 공개…\"가장 안전한 데이터센터 건설 노력\" 정신아 카카오 대표가 올해 안에 카카오의 차별화된 인공지능(AI) 서비스를 내놓겠다고 밝혔', metadata={'language': 'ko', 'source': 'https://n.news.naver.com/mnews/article/015/0004995857', 'title': \"정신아 카카오 대표 “하반기 AI 접목한 서비스 내놓을 것”'\"}),\n",
       " Document(page_content='정신아 카카오 대표는 “연내 카카오에 인공지능(AI)을 접목한 서비스를 내놓을 것”이라고 말했다.정 대표는 지난 11일 경기 안산시 한양대 에리카캠퍼스 내 카카오 데이터센터 안산에서 기자들과 만나 “카카오의 차별점은 월 4870만명이 이용하는 서비스라는 점”이라며 “AI 기술에 대해 잘 몰라도 이용자들이 쉽게 쓸 수 있도록 하는 게 우선적인 과제”라며 이같이 말했다. 관계를 기반으로 하는 카카오톡 서비스를 바탕으로 카카오다운 서비스를 내놓는 게 목표라는 설명이다. 그는 “애플의 WWDC 발표를 보면서 AI 시대에는 먼저 치고', metadata={'language': 'ko', 'source': 'https://n.news.naver.com/mnews/article/015/0004995857', 'title': \"정신아 카카오 대표 “하반기 AI 접목한 서비스 내놓을 것”'\"}),\n",
       " Document(page_content='나가는 사람이 반드시 위너는 아니라는 생각을 했다”며 “지금까지의 경쟁이 언어모델이었다면 앞으로는 의미 있는 서비스로 넘어가게 될 것”이라고 분석했다.정 대표는 카카오가 위기 상황이던 작년 12월 대표로 내정됐다. 그는 “위기 속에 대표가 돼서 처음으로 붙은 키워드가 쇄신이었다”며 “1~2개월 동안 문제의 근본을 파악하고 단기, 중기, 장기 쇄신 과제를 세웠다”고 설명했다. 단기 쇄신이 구조 개편이라면 장기 쇄신은 조직 프로세스와 문화까지 바꾸는 것을 포함한다. 그는 “올해 상반기는 카카오의 본질에 집중하는 방향성과 원팀으로 달릴', metadata={'language': 'ko', 'source': 'https://n.news.naver.com/mnews/article/015/0004995857', 'title': \"정신아 카카오 대표 “하반기 AI 접목한 서비스 내놓을 것”'\"}),\n",
       " Document(page_content=\"QR을 촬영해보세요.\\n클래식과 미술의 모든 것 '아르떼'에서 확인하세요\\n\\n\\n\\n\\n\\n\\n\\n\\n\\n\\n닫기\\n\\n\\n\\n\\n\\n\\n\\n\\n\\n한경 60주년, 구독신청하면 경품이 와르르!\\nQR 코드를 클릭하면 크게 볼 수 있어요.\\n\\n\\n\\nQR을 촬영해보세요.\\n한경 60주년, 구독신청하면 경품이 와르르!\\n\\n\\n\\n\\n\\n\\n\\n\\n\\n\\n닫기\\n\\n\\n\\n\\n\\n\\n\\n\\n\\n\\n\\n\\n\\t\\t\\t주요뉴스해당 언론사에서 선정하며 언론사 페이지(아웃링크)로 이동해 볼 수 있습니다.\", metadata={'language': 'ko', 'source': 'https://n.news.naver.com/mnews/article/015/0004995857', 'title': \"정신아 카카오 대표 “하반기 AI 접목한 서비스 내놓을 것”'\"}),\n",
       " Document(page_content='구독해주셔서 감사합니다\\n\\n남형도 기자의 기사는언론사별에서 볼 수 있습니다\\n\\n닫기\\n\\n\\n\\n\\n\\n\\n언론사도 함께 구독해 보세요.\\n\\n\\n\\t\\t\\t\\t\\t\\t\\t\\t\\t\\t\\t\\t\\t\\t\\t\\t\\t\\t\\t구독\\n\\t\\t\\t\\t\\t\\t\\t\\t\\t\\t\\t\\t\\t\\t\\t\\t\\t\\t\\n\\n\\n\\n\\n\\t\\t\\t\\t\\t\\t\\t\\t\\t\\t\\t\\t\\t\\t\\t\\t\\t\\t언론사를 함께 구독중입니다.\\n\\t\\t\\t\\t\\t\\t\\t\\t\\t\\t\\t\\t\\t\\t\\t\\t\\t\\n\\n\\n\\n\\n\\n\\n\\n\\n\"제발\"…도로 한복판 오리가족, 가슴 떨리는 50초 \\'응원\\'[인류애 충전소]\\n머니투데이\\n4일전\\n\\n\\n\\n\\n\\n\\n\\n더보기\\n\\n\\n\\n\\n\\n\\n\\n\\n\\n새로보기\\n\\n\\n\\n\\n\\n함께 볼만한 뉴스\\n안내', metadata={'language': 'ko', 'source': 'https://n.news.naver.com/mnews/article/015/0004995857', 'title': \"정신아 카카오 대표 “하반기 AI 접목한 서비스 내놓을 것”'\"}),\n",
       " Document(page_content='본문 요약봇\\n\\n\\n\\n본문 요약봇도움말\\n자동 추출 기술로 요약된 내용입니다. 요약 기술의 특성상 본문의 주요 내용이 제외될 수 있어, 전체 맥락을 이해하기 위해서는 기사 본문 전체보기를 권장합니다.\\n닫기\\n\\n\\n\\n\\n\\n\\n\\n\\n텍스트 음성 변환 서비스 사용하기\\n\\n\\n\\n성별\\n남성\\n여성\\n\\n\\n말하기 속도\\n느림\\n보통\\n빠름\\n\\n이동 통신망을 이용하여 음성을 재생하면 별도의 데이터 통화료가 부과될 수 있습니다.\\n본문듣기 시작\\n\\n닫기\\n\\n\\n \\n\\n글자 크기 변경하기\\n\\n\\n\\n가1단계\\n작게\\n\\n\\n가2단계\\n보통\\n\\n\\n가3단계\\n크게\\n\\n\\n가4단계\\n아주크게', metadata={'language': 'ko', 'source': 'https://n.news.naver.com/mnews/article/015/0004995857', 'title': \"정신아 카카오 대표 “하반기 AI 접목한 서비스 내놓을 것”'\"}),\n",
       " Document(page_content='\"기름 나오는 것도 부러운데…\" 또 잭팟 터졌다\\n휴전 소식에 \\'울상\\'…하루 만에 주가 7% \\'급락\\'\\n\"박봉인데 사비까지 써야 하나\"…공무원들 \\'눈물\\'\\n\"지드래곤이 한 번 써줬으면\"…요즘 남성들 고민\\n한국 옷 사러 3000명 \\'우르르\\'…더현대, 일냈다\\n\\n\\n\\n\\n\\n\\n\\n\\n이 기사를 추천합니다\\n\\n\\n기사 추천은 24시간 내 50회까지 참여할 수 있습니다.\\n닫기\\n\\n\\n\\n\\n\\n\\n쏠쏠정보\\n0\\n\\n\\n\\n\\n흥미진진\\n0\\n\\n\\n\\n\\n공감백배\\n0\\n\\n\\n\\n\\n분석탁월\\n0\\n\\n\\n\\n\\n후속강추\\n0', metadata={'language': 'ko', 'source': 'https://n.news.naver.com/mnews/article/015/0004995857', 'title': \"정신아 카카오 대표 “하반기 AI 접목한 서비스 내놓을 것”'\"}),\n",
       " Document(page_content='프리미엄콘텐츠는 네이버가 인터넷뉴스 서비스사업자로서 제공, 매개하는 기사가 아니고, 해당 콘텐츠 제공자가 프리미엄 회원을 대상으로 별도로 발행·제공하는 콘텐츠입니다.\\n닫기\\n\\n\\n\\n\\n\\n\\n\\n\\n\\n\\n\\n\\t\\t\\t\\t\\t\\t\\t\\t\\t\\t6.11 종목STUDY - 2차 전지 어디까지 반등할까?, 에코프로와 에코프로비엠 그리고 새로운 종목 추천!\\n\\t\\t\\t\\t\\t\\t\\t\\t\\t\\n\\n\\n\\n\\n당나귀삼춘의 주식공부하며 수익내기\\n\\n\\n\\n\\n\\n\\n\\n\\n\\n\\n\\n\\n\\n\\t\\t\\t\\t\\t\\t\\t\\t\\t\\t[GPTs 제작] GPT에 카카오맵 연동 인증키 사용하기\\n\\t\\t\\t\\t\\t\\t\\t\\t\\t\\n\\n\\n\\n\\n월간미래교육', metadata={'language': 'ko', 'source': 'https://n.news.naver.com/mnews/article/015/0004995857', 'title': \"정신아 카카오 대표 “하반기 AI 접목한 서비스 내놓을 것”'\"}),\n",
       " Document(page_content='한국경제가 이 기사의 댓글 정책을 결정합니다.\\n\\t\\t\\t\\t\\t\\n안내\\n댓글 정책 언론사별 선택제\\n섹션별로 기사의 댓글 제공여부와 정렬방식을 언론사가 직접 결정합니다. 기사 섹션 정보가정치/선거를 포함하는 경우 정치/선거섹션 정책이적용됩니다. 단, 운영규정에 따른삭제나 이용제한 조치는 네이버가 직접수행합니다.\\n레이어 닫기\\n\\n\\n\\n\\n\\n\\n\\n한국경제 헤드라인\\n더보기\\n\\n\\n\\n\\n\\n\\n\\n\\n\\n\"와이프 차로 딱 좋아\"…올해만 \\'5000대\\' 불티나게 팔렸다\\n4시간전\\n\\n\\n\\n\\n\\n\\n\\n\\n\\n\\n\\n\"한 달 3000만원씩 벌었다\"…대학가 원룸서 무슨 일이?\\n1시간전', metadata={'language': 'ko', 'source': 'https://n.news.naver.com/mnews/article/015/0004995857', 'title': \"정신아 카카오 대표 “하반기 AI 접목한 서비스 내놓을 것”'\"}),\n",
       " Document(page_content='\"장기임대주택이 조합원입주권 변경 후 임대등록 자진말소시 조특법 적용될까?\"[주목! 최신 예규 심판례]\\n\\t\\t\\t\\t\\t\\t\\t\\t\\t\\n\\n\\n\\n\\n조세일보 정회원 기사\\n\\n\\n\\n\\n\\n\\n\\n\\n\\n\\n\\n\\n\\n\\t\\t\\t\\t\\t\\t\\t\\t\\t\\t잇크루 에어부산 뉴스 - 에어부산, 대학생 대상 항공 직무 진로 특강 ‘드림멘토’ 실시\\n\\t\\t\\t\\t\\t\\t\\t\\t\\t\\n\\n\\n\\n\\n승무원과외 잇크루- 승무원합격의모든것\\n\\n\\n\\n\\n\\n\\n\\n\\n\\n\\n\\n\\n\\n기간한정무료\\n\\t\\t\\t\\t\\t\\t\\t\\t\\t\\t[  대충맘의 일상툰 ] 낯선 동네를 운전하고 나서 든 소소한 생각', metadata={'language': 'ko', 'source': 'https://n.news.naver.com/mnews/article/015/0004995857', 'title': \"정신아 카카오 대표 “하반기 AI 접목한 서비스 내놓을 것”'\"}),\n",
       " Document(page_content='달라진 iOS…17년 만에 꺾인 애플 고집들\\n아이폰의 iOS 18에서 업데이트의 핵심인 AI(인공지능) 뿐만 아니라 그간 이용자들이 바라왔던 불편점들이 대거 개선될 전망이다. 통화 목록을 잘못 눌렀을 때 곧바로 원치 않는 전화가 연결되거나, 강제적으로 빽빽하게', metadata={'language': 'ko', 'source': 'https://n.news.naver.com/mnews/article/015/0004995857', 'title': \"정신아 카카오 대표 “하반기 AI 접목한 서비스 내놓을 것”'\"}),\n",
       " Document(page_content=\"정신아 카카오 대표 “하반기 AI 접목한 서비스 내놓을 것”'\\n\\n\\n\\n\\n\\n\\n\\n\\n\\n\\n\\n\\n\\n본문 바로가기\\n\\n\\n\\n\\n\\n\\nNAVER\\n\\n뉴스\\n\\n\\n연예\\n\\n\\n\\n\\n스포츠\\n\\n\\n\\n\\n날씨\\n\\n\\n\\n\\n프리미엄\\n\\n\\n\\n\\n\\n\\n\\n\\n\\n\\n검색\\n\\n\\n\\n\\n\\n\\n\\n\\n\\n\\n언론사별\\n\\n\\n정치\\n\\n\\n경제\\n\\n\\n사회\\n\\n\\n생활/문화\\n\\n\\nIT/과학\\n\\n\\n세계\\n\\n\\n랭킹\\n\\n\\n신문보기\\n\\n\\n오피니언\\n\\n\\nTV\\n\\n\\n팩트체크\\n\\n\\n알고리즘 안내\\n\\n\\n정정보도 모음\\n\\n\\n\\n\\n\\n\\n\\n\\n\\n\\n\\n\\n\\n\\n\\n\\n\\n\\n\\n구독\", metadata={'language': 'ko', 'source': 'https://n.news.naver.com/mnews/article/015/0004995857', 'title': \"정신아 카카오 대표 “하반기 AI 접목한 서비스 내놓을 것”'\"}),\n",
       " Document(page_content='엉뚱한 대충맘의 일상툰\\n\\n\\n\\n\\n\\n\\n\\n\\n\\n\\n\\n\\n\\n\\n\\n\\n\\n기간한정무료\\n\\t\\t\\t\\t\\t\\t\\t\\t\\t\\t한미반도체 2차 목표가 초과 달성\\n\\t\\t\\t\\t\\t\\t\\t\\t\\t\\n\\n\\n\\n\\n코지스탁\\n\\n\\n\\n\\n\\n\\n\\n\\n\\n\\n\\n\\n\\n\\t\\t\\t\\t\\t\\t\\t\\t\\t\\tAI 활용 워크북 생성 자동 프로그램 사용권[공지]\\n\\t\\t\\t\\t\\t\\t\\t\\t\\t\\n\\n\\n\\n\\n김석환의 티칭코칭\\n\\n\\n\\n\\n\\n\\n\\n\\n\\n\\n\\n\\n\\n\\t\\t\\t\\t\\t\\t\\t\\t\\t\\tWeekly Report(2024.06.09.일)\\n\\t\\t\\t\\t\\t\\t\\t\\t\\t\\n\\n\\n\\n\\n29PER\\n\\n\\n\\n\\n\\n동영상 기사\\n\\n\\n\\n\\n\\n\\n\\n\\n\\t\\t\\t\\t\\t\\t\\t\\t\\t\\t농림어촌(시골) 어디까지 알고 있니?', metadata={'language': 'ko', 'source': 'https://n.news.naver.com/mnews/article/015/0004995857', 'title': \"정신아 카카오 대표 “하반기 AI 접목한 서비스 내놓을 것”'\"}),\n",
       " Document(page_content='“무료 배달, 되레 업주 부담 키우고 음식 가격 인상으로 이어져”…‘이중가격’ 어쩌나? [일상톡톡 플러스]\\n세계일보\\n3시간전\\n\\n\\n\\n\\n\\n\\n\\n더보기\\n\\n\\n\\n\\n\\n\\n\\n\\n\\n최재원 기자\\n\\n\\n구독\\n구독중\\n\\n구독해주셔서 감사합니다\\n\\n최재원 기자의 기사는언론사별에서 볼 수 있습니다\\n\\n닫기\\n\\n\\n\\n\\n\\n\\n언론사도 함께 구독해 보세요.\\n\\n\\n\\t\\t\\t\\t\\t\\t\\t\\t\\t\\t\\t\\t\\t\\t\\t\\t\\t\\t\\t구독\\n\\t\\t\\t\\t\\t\\t\\t\\t\\t\\t\\t\\t\\t\\t\\t\\t\\t\\t\\n\\n\\n\\n\\n\\t\\t\\t\\t\\t\\t\\t\\t\\t\\t\\t\\t\\t\\t\\t\\t\\t\\t언론사를 함께 구독중입니다.', metadata={'language': 'ko', 'source': 'https://n.news.naver.com/mnews/article/015/0004995857', 'title': \"정신아 카카오 대표 “하반기 AI 접목한 서비스 내놓을 것”'\"}),\n",
       " Document(page_content='수 있도록 조직구조를 개편했다”며 “남은 하반기에는 이를 공고히 하기 위한 작업을 하게 될 것”이라고 강조했다.카카오는 올해 1월 가동을 시작한 카카오 데이터센터 안산을 기자들에게 처음으로 공개했다. 정 대표는 “카카오의 월간 활성화 이용자(MAU)는 4870만명, 일평균 수발신량은 100억건이 넘는다”며 “카카오 서비스가 국민 일상의 큰 부분을 차지하는 만큼 전 국민의 일상을 지키는 책임감을 갖고 가장 안전한 데이터센터를 만들기 위해 노력했다”고 말했다.그는 “최근 카카오의 존재 이유를 ‘사람의 이해하는 기술로 필요한 미래를 더', metadata={'language': 'ko', 'source': 'https://n.news.naver.com/mnews/article/015/0004995857', 'title': \"정신아 카카오 대표 “하반기 AI 접목한 서비스 내놓을 것”'\"}),\n",
       " Document(page_content='옥장판에 은구슬\\n\\n\\n\\n\\n\\n\\n\\n\\n\\n\\n\\n\\n\\n\\n\\n이전 콘텐츠들 보기\\n\\n\\n3\\n다음 콘텐츠들 보기\\n\\n\\n\\n\\n\\n\\n\\n\\n\\n\\n\\n구독\\n\\n\\n\\n\\n\\n\\n본문 듣기를 종료하였습니다.\\n\\n이 기사를 추천했습니다.\\n\\n추천을 취소했습니다.\\n\\n\\n\\n\\n\\n\\n\\n로그인\\n\\n\\n전체서비스\\n\\n\\n\\n\\n서비스안내\\n\\n\\n오류신고\\n\\n\\n고객센터\\n\\n\\n\\n기사배열 책임자 : 김수향\\n청소년 보호 책임자 : 이정규\\n\\n\\n\\t\\t\\t\\t\\t각 언론사가 직접 콘텐츠를 편집합니다.\\n\\t\\t\\t\\t\\tⓒ 한국경제', metadata={'language': 'ko', 'source': 'https://n.news.naver.com/mnews/article/015/0004995857', 'title': \"정신아 카카오 대표 “하반기 AI 접목한 서비스 내놓을 것”'\"})]"
      ]
     },
     "execution_count": 8,
     "metadata": {},
     "output_type": "execute_result"
    }
   ],
   "source": [
    "# 질문관련(Question) - 7개의 유사문서가 추출되었음.\n",
    "unique_docs"
   ]
  },
  {
   "cell_type": "code",
   "execution_count": null,
   "metadata": {},
   "outputs": [],
   "source": []
  }
 ],
 "metadata": {
  "kernelspec": {
   "display_name": "ollama_prj",
   "language": "python",
   "name": "python3"
  },
  "language_info": {
   "codemirror_mode": {
    "name": "ipython",
    "version": 3
   },
   "file_extension": ".py",
   "mimetype": "text/x-python",
   "name": "python",
   "nbconvert_exporter": "python",
   "pygments_lexer": "ipython3",
   "version": "3.10.0"
  }
 },
 "nbformat": 4,
 "nbformat_minor": 2
}
