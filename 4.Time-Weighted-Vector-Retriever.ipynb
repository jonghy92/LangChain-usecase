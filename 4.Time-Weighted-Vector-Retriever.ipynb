{
 "cells": [
  {
   "cell_type": "markdown",
   "metadata": {},
   "source": [
    "### Time-Weighted Vector Retriever"
   ]
  },
  {
   "cell_type": "code",
   "execution_count": null,
   "metadata": {},
   "outputs": [],
   "source": [
    "\"\"\"\n",
    "< Time-Weighted Vector Retriever >\n",
    "\n",
    "가장 최근에 이용된 문서를 기준으로 먼저 참고하도록 하여 답변의 Freshness를 유지할 수 있음\n",
    "(개념 : 시간이 지난 만큼 페널티를 준다...!)\n",
    "\n",
    "Scoring 방법 = semantic_similarity + (1.0 - decay_rate)^hours_passed\n",
    "\n",
    "**pip install faiss-gpu / faiss-cpu 필요\n",
    "\"\"\""
   ]
  },
  {
   "cell_type": "code",
   "execution_count": 4,
   "metadata": {},
   "outputs": [],
   "source": [
    "# Libraries\n",
    "from datetime import datetime, timedelta\n",
    "\n",
    "import faiss\n",
    "from langchain.docstore import InMemoryDocstore\n",
    "from langchain.retrievers import TimeWeightedVectorStoreRetriever\n",
    "from langchain.schema import Document\n",
    "from langchain_community.vectorstores import FAISS\n",
    "from langchain.embeddings import HuggingFaceEmbeddings\n",
    "\n",
    "# Embedding --> Vector DB\n",
    "model_name = \"jhgan/ko-sbert-nli\" # 한국말 임베딩 모델 \n",
    "encode_kwargs = {\"normalize_embeddings\":True}\n",
    "ko_embedding = HuggingFaceEmbeddings(\n",
    "    model_name = model_name,\n",
    "    encode_kwargs = encode_kwargs\n",
    ")\n",
    "\n",
    "# Initialize the vectorstore as empty\n",
    "embedding_size=768 # 임베딩 싸이즈 설정\n",
    "index = faiss.IndexFlatL2(embedding_size)\n",
    "vectorstore = FAISS(ko_embedding, index, InMemoryDocstore({}), {})\n",
    "retriever = TimeWeightedVectorStoreRetriever(\n",
    "    vectorstore=vectorstore,\n",
    "    decay_rate=0.99, # 0~1: 1에 가까울수록 시간에 가까운 유사 정보로 가져옴\n",
    "    k=1\n",
    ")\n",
    "# decay_rate는 0.5정도로 시작하여 결과를 보고 조절하는게 적합함."
   ]
  },
  {
   "cell_type": "code",
   "execution_count": 6,
   "metadata": {},
   "outputs": [
    {
     "data": {
      "text/plain": [
       "['4a2808d0-d08c-4793-b5b5-de48e19ec188']"
      ]
     },
     "execution_count": 6,
     "metadata": {},
     "output_type": "execute_result"
    }
   ],
   "source": [
    "# 시간 데이터 생성 및 추가\n",
    "yesterday = datetime.now() - timedelta(days=1)\n",
    "\n",
    "# Document 데이터 추가\n",
    "retriever.add_documents(\n",
    "    [\n",
    "        Document(\n",
    "            page_content=\"영어는 훌륭합니다.\",\n",
    "            metadata={\"last_accessed_at\":yesterday} # 어제 데이터\n",
    "        )\n",
    "    ]\n",
    ")\n",
    "\n",
    "retriever.add_documents([Document(page_content=\"한국어는 훌륭합니다\")]) # 오늘 데이터"
   ]
  },
  {
   "cell_type": "code",
   "execution_count": 3,
   "metadata": {},
   "outputs": [
    {
     "data": {
      "text/plain": [
       "[Document(page_content='영어는 훌륭합니다.', metadata={'last_accessed_at': datetime.datetime(2024, 6, 12, 17, 54, 23, 745626), 'created_at': datetime.datetime(2024, 6, 12, 17, 54, 1, 645939), 'buffer_idx': 0})]"
      ]
     },
     "execution_count": 3,
     "metadata": {},
     "output_type": "execute_result"
    }
   ],
   "source": [
    "## decay_rate = 0.01\n",
    "# 시간 가중치를 줄였기 때문에, 지나간 시간을 거이 고려하지않고, 유사한 문서를 가져옴.\n",
    "retriever.get_relevant_documents(\"영어가 좋아요\")"
   ]
  },
  {
   "cell_type": "code",
   "execution_count": 7,
   "metadata": {},
   "outputs": [
    {
     "data": {
      "text/plain": [
       "[Document(page_content='한국어는 훌륭합니다', metadata={'last_accessed_at': datetime.datetime(2024, 6, 12, 17, 57, 19, 814103), 'created_at': datetime.datetime(2024, 6, 12, 17, 57, 17, 677818), 'buffer_idx': 1})]"
      ]
     },
     "execution_count": 7,
     "metadata": {},
     "output_type": "execute_result"
    }
   ],
   "source": [
    "## decay_rate = 0.99\n",
    "# 시간 가중치를 극단적으로 올렸기 때문에, 지나간 시간을 무조건 고려하여, 유사한 문서를 가져옴.\n",
    "# (유사 하던지 말던지,,, 시간만 따져서 가장 최근 문서를 가져오게 된것...)\n",
    "retriever.get_relevant_documents(\"영어가 좋아요\")"
   ]
  },
  {
   "cell_type": "code",
   "execution_count": null,
   "metadata": {},
   "outputs": [],
   "source": []
  }
 ],
 "metadata": {
  "kernelspec": {
   "display_name": "ollama_prj",
   "language": "python",
   "name": "python3"
  },
  "language_info": {
   "codemirror_mode": {
    "name": "ipython",
    "version": 3
   },
   "file_extension": ".py",
   "mimetype": "text/x-python",
   "name": "python",
   "nbconvert_exporter": "python",
   "pygments_lexer": "ipython3",
   "version": "3.10.0"
  }
 },
 "nbformat": 4,
 "nbformat_minor": 2
}
