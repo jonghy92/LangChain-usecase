{
 "cells": [
  {
   "cell_type": "markdown",
   "metadata": {},
   "source": [
    "### Parent-Document-Retriever Test"
   ]
  },
  {
   "cell_type": "code",
   "execution_count": null,
   "metadata": {},
   "outputs": [],
   "source": [
    "\"\"\"\n",
    "< Parent-Document-Retriever >\n",
    "\n",
    "유사 청크(Text Chunk)를 찾은 후, 부모 문서(Parent Document)에 할당된 다른 텍스트 청크들도 참조하여\n",
    "LLM에게 보냄 (결국 Parent Document를 참고하게 됨)\n",
    "\n",
    "ex)\n",
    "\n",
    "Document: \n",
    "        + Page 1\n",
    "             - Text Chunk 1-1\n",
    "             - Text Chunk 2-2\n",
    "             - Text Chunk 3-3         \n",
    "         + Page 2\n",
    "             - Text Chunk 1-1\n",
    "             - Text Chunk 2-2\n",
    "             - Text Chunk 3-3         \n",
    "         \n",
    "'Page 1'에 있는 'Text Chunk 1-1' 이 질문과 유사하다고 판단되면 Page1의 다른 청크들도 참고히여\n",
    "LLM에게 넘겨주게 됨. 이렇게 사용하면, 앞 뒤 문맥을 더 참고하여 답변할 수 있음.\n",
    "(유사 문서의 부모 문서를 참고하므로, 조금 더 맥락을 담아 LLM에게 제공 가능)\n",
    "(Retriever에 llm 모델이 선언되지 않고 사용됨...)\n",
    "\n",
    "\n",
    "** Parent Document의 싸이즈가 너무 클 경우에는:\n",
    "            - Parent Splitter & Child Splitter 2개를 나눠서 사용\n",
    "            - https://python.langchain.com/v0.1/docs/modules/data_connection/retrievers/parent_document_retriever/\n",
    "\n",
    "\"\"\""
   ]
  },
  {
   "cell_type": "code",
   "execution_count": 1,
   "metadata": {},
   "outputs": [],
   "source": [
    "# Libraries\n",
    "from langchain.retrievers import ParentDocumentRetriever\n",
    "from langchain.storage import InMemoryStore\n",
    "from langchain.text_splitter import RecursiveCharacterTextSplitter\n",
    "from langchain.document_loaders import PyPDFLoader\n",
    "from langchain_community.vectorstores import Chroma\n",
    "from langchain.embeddings import HuggingFaceEmbeddings"
   ]
  },
  {
   "cell_type": "code",
   "execution_count": 2,
   "metadata": {},
   "outputs": [],
   "source": [
    "# PDF 파일 불러오기 및 페이지별로 저장\n",
    "loaders = [\n",
    "    PyPDFLoader(\"./data/케이뱅크.pdf\"),\n",
    "    PyPDFLoader(\"./data/토스뱅크.pdf\")\n",
    "]\n",
    "docs = []\n",
    "for loader in loaders:\n",
    "    docs.extend(loader.load_and_split())"
   ]
  },
  {
   "cell_type": "code",
   "execution_count": 6,
   "metadata": {},
   "outputs": [
    {
     "name": "stderr",
     "output_type": "stream",
     "text": [
      "C:\\Users\\jongh\\AppData\\Roaming\\Python\\Python310\\site-packages\\tqdm\\auto.py:21: TqdmWarning: IProgress not found. Please update jupyter and ipywidgets. See https://ipywidgets.readthedocs.io/en/stable/user_install.html\n",
      "  from .autonotebook import tqdm as notebook_tqdm\n"
     ]
    }
   ],
   "source": [
    "# Embedding load\n",
    "model_name = \"jhgan/ko-sbert-nli\"\n",
    "encode_kwargs = {\"normalize_embeddings\":True}\n",
    "ko_embedding = HuggingFaceEmbeddings(\n",
    "    model_name = model_name,\n",
    "    encode_kwargs = encode_kwargs\n",
    ")\n"
   ]
  },
  {
   "cell_type": "code",
   "execution_count": 8,
   "metadata": {},
   "outputs": [],
   "source": [
    "# Create Child Documents - text splitter - 자식 문서 \n",
    "child_splitter = RecursiveCharacterTextSplitter(chunk_size=500)\n",
    "\n",
    "# VectorStore 구축\n",
    "vectorstore = Chroma(\n",
    "    collection_name=\"full_documents\",\n",
    "    embedding_function=ko_embedding\n",
    ")\n",
    "\n",
    "# Parent Documents Retriever\n",
    "store = InMemoryStore()\n",
    "retriever = ParentDocumentRetriever(\n",
    "    vectorstore=vectorstore,\n",
    "    docstore=store,\n",
    "    child_splitter=child_splitter\n",
    ")\n",
    "retriever.add_documents(docs, ids=None)"
   ]
  },
  {
   "cell_type": "code",
   "execution_count": 9,
   "metadata": {},
   "outputs": [],
   "source": [
    "sub_docs = vectorstore.similarity_search(\"흑자를낸 뱅크는?\")"
   ]
  },
  {
   "cell_type": "code",
   "execution_count": 10,
   "metadata": {},
   "outputs": [
    {
     "data": {
      "text/plain": [
       "[Document(page_content='은행  (NEUTRAL ) \\n케이뱅크  – 2Q 분기 흑자 전환 성공  \\n \\n• 케이뱅크는  2Q21 28.1% q-q의 견조한  자산 성장률을  기록한  가운데 , 39억원의  흑자\\n전환에  성공. 작년 분기별  평균 263억원의  적자 시현 감안할 때, 이익 개선이  빠르\\n게 이뤄진  것을 방증. \\n• 1) 대출 고성장으로  이자이익이  396.4 % y-y, 71.3% q-q 증가와 함께 2) 수수료이익\\n이 85억원의  순이익을  기록한  것이 실적 개선을  견읶. \\n• 지난 7월 완료된  1.25조원의 유상증자는  케이뱅크  실적의  본격적읶  개선을  위한 기\\n반이 될 전망. 향후 성장의  지속성을  위한 관건은  고객 기반 활용도  제고로 판단.  \\nWHAT’S THE STORY  \\n케이뱅크  2Q21 실적 - 적자폭  크게 감소: 케이뱅크는  2Q21 28.1% q -q의 견조한  자산 성장', metadata={'doc_id': 'dcdc4a93-a3a0-438f-a9b2-6e8d17ecd438', 'page': 0, 'source': './data/케이뱅크.pdf'}),\n",
       " Document(page_content='토스뱅크  (비상장 ) \\n2Q 리뷰: 적자 폭 축소 - 흑자 전환 기간 단축이  관건 \\n \\n• 2Q23 당기순손실  105억원 시현. 적자 폭 축소 추세 긍정적 .  \\n• 순이자이익  증가 및 CCR 하락은  긍정적이나 , 현재의  매크로  상황 및 동사 여신 포트\\n폴리오  감안 시, 여전히  자산 건전성  관리가  최대 관건 중 하나.  \\n• 7월 중 흑자 전환에  성공한  것으로  보도된  가운데 , 흑자 전환 성공을  통한 선순환  고\\n리 창출 여부가  향후 최대 관건. \\nWHAT’S THE STORY?  \\n2Q23 당기순손실  105억원 시현 – 적자 폭 감소: 토스뱅크는  2Q23 105억원의  순손실을  기\\n록. 순손실  규모는  3Q22 476 억원, 1Q23 280 억원에  이어 감소세를  지속. 1) Credit cost는 높\\n은 수준을  이어갔으나 , 2) 순이자이익  증가가  적자 폭 개선에  기여.', metadata={'doc_id': '05d0a932-f282-4214-8b81-1c11e9db3ee8', 'page': 0, 'source': './data/토스뱅크.pdf'}),\n",
       " Document(page_content='SECTOR  UPDATE  2021. 9. 2  \\n은행 \\n \\nSamsung Securities (Korea)  \\nwww.samsungpop.com  2 \\n 2Q 실적 Overview – 분기 흑자 시현  \\n케이뱅크가  2Q21 실적을  발표하였다 . 28.1% q -q의 견조한  자산 성장률을  기록한  가욲데 , 39억원의  흑\\n자젂홖에  성공하였다 . 참고로 , 동사가  작년 연갂 1,054 억원, 붂기별로는  평균 263억원의  적자를  시현한  \\n점을 감앆하면 , 이익 개선이  빠르게  이뤄짂  것이다 . 이는 이자이익이  396.4% y -y, 71.3% q -q 증가한  데 \\n따른 것으로  판단된다 .  \\n \\n케이뱅크 : 손익계산서  \\n(십억원 ) 2Q20  3Q20  4Q20  1Q21 2Q21 \\n순이자손익  9.0  11.2  16.5  26.1  44.8  \\n이자수익  14.6  16.5  22.6  33.7  54.4', metadata={'doc_id': '925da5dd-787a-4180-bbad-a569905fefd9', 'page': 1, 'source': './data/케이뱅크.pdf'}),\n",
       " Document(page_content='로 평가되기  때문.  \\n즉, 향후 관건은  흑자 전환까지의  시간 단축이  관건이  될 전망. 이는 동사가  일정 수준 이상의  대출 자\\n산 규모를  확보, 구조적인  흑자 창출 구조에  진입한다면 , 앞서 언급된  우려들이  빠르게  해소될  수 있음\\n을 의미하기  때문.  \\n참고로 , 동사는  1) 7월 중 월간 흑자 달성에  성공하였으며 , 2) 3Q 중 분기 흑자 전환도  가능한  것으로  언\\n급한 것이 언론에  보도되며  흑자 전환에  대한 기대가  높은 상황. 다만, 1) 4Q에는 계절적으로  연말 보수\\n적 충당금  적립 기조 강화 및 판관비  증가로  인해 이익 가시성이  낮은 점과 2) 동사의  수익 기반이  상\\n대적으로  얇은 만큼, 일회성  비용 혹은 손실 요인에  따라 변동성이  높게 나타날  수 있는 점은 이익 성\\n장 지속 여부에  있어 부담으로  작용할  수 있다는  관점에서  고려 필요.', metadata={'doc_id': '1a2f8ff9-8d78-470c-9844-23279c20e5e2', 'page': 10, 'source': './data/토스뱅크.pdf'})]"
      ]
     },
     "execution_count": 10,
     "metadata": {},
     "output_type": "execute_result"
    }
   ],
   "source": [
    "sub_docs"
   ]
  },
  {
   "cell_type": "code",
   "execution_count": 11,
   "metadata": {},
   "outputs": [
    {
     "name": "stdout",
     "output_type": "stream",
     "text": [
      "글 길이: 455\n",
      "\n",
      "\n",
      "은행  (NEUTRAL ) \n",
      "케이뱅크  – 2Q 분기 흑자 전환 성공  \n",
      " \n",
      "• 케이뱅크는  2Q21 28.1% q-q의 견조한  자산 성장률을  기록한  가운데 , 39억원의  흑자\n",
      "전환에  성공. 작년 분기별  평균 263억원의  적자 시현 감안할 때, 이익 개선이  빠르\n",
      "게 이뤄진  것을 방증. \n",
      "• 1) 대출 고성장으로  이자이익이  396.4 % y-y, 71.3% q-q 증가와 함께 2) 수수료이익\n",
      "이 85억원의  순이익을  기록한  것이 실적 개선을  견읶. \n",
      "• 지난 7월 완료된  1.25조원의 유상증자는  케이뱅크  실적의  본격적읶  개선을  위한 기\n",
      "반이 될 전망. 향후 성장의  지속성을  위한 관건은  고객 기반 활용도  제고로 판단.  \n",
      "WHAT’S THE STORY  \n",
      "케이뱅크  2Q21 실적 - 적자폭  크게 감소: 케이뱅크는  2Q21 28.1% q -q의 견조한  자산 성장\n"
     ]
    }
   ],
   "source": [
    "# 질문에 관련하여 가장 유사한 0번째 문서 - 답변\n",
    "print(\"글 길이: {}\\n\\n\".format(len(sub_docs[0].page_content)))\n",
    "print(sub_docs[0].page_content)"
   ]
  },
  {
   "cell_type": "code",
   "execution_count": null,
   "metadata": {},
   "outputs": [],
   "source": []
  }
 ],
 "metadata": {
  "kernelspec": {
   "display_name": "ollama_prj",
   "language": "python",
   "name": "python3"
  },
  "language_info": {
   "codemirror_mode": {
    "name": "ipython",
    "version": 3
   },
   "file_extension": ".py",
   "mimetype": "text/x-python",
   "name": "python",
   "nbconvert_exporter": "python",
   "pygments_lexer": "ipython3",
   "version": "3.10.0"
  }
 },
 "nbformat": 4,
 "nbformat_minor": 2
}
